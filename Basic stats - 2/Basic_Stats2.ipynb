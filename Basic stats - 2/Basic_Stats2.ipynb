{
  "nbformat": 4,
  "nbformat_minor": 0,
  "metadata": {
    "colab": {
      "provenance": []
    },
    "kernelspec": {
      "name": "python3",
      "display_name": "Python 3"
    },
    "language_info": {
      "name": "python"
    }
  },
  "cells": [
    {
      "cell_type": "code",
      "execution_count": 2,
      "metadata": {
        "id": "S37Aln0FoGRh"
      },
      "outputs": [],
      "source": [
        "import numpy\n",
        "import scipy.stats"
      ]
    },
    {
      "cell_type": "code",
      "source": [
        "#Given Data\n",
        "data=[1.13,1.55,1.43,0.92,1.25,1.36,1.32,0.85,1.07,1.48,1.20,1.33,1.18,1.22,1.29]"
      ],
      "metadata": {
        "id": "NNzT1DX_oY4X"
      },
      "execution_count": 3,
      "outputs": []
    },
    {
      "cell_type": "code",
      "source": [
        "#Sample mean\n",
        "sample_mean=numpy.mean(data)\n",
        "sample_mean"
      ],
      "metadata": {
        "colab": {
          "base_uri": "https://localhost:8080/"
        },
        "id": "3aGH9drPo37q",
        "outputId": "a4431a9c-c251-4ca8-d756-21d8f052b25f"
      },
      "execution_count": 5,
      "outputs": [
        {
          "output_type": "execute_result",
          "data": {
            "text/plain": [
              "1.2386666666666666"
            ]
          },
          "metadata": {},
          "execution_count": 5
        }
      ]
    },
    {
      "cell_type": "code",
      "source": [
        "#Sample Standard Deviation\n",
        "sample_std=numpy.std(data, ddof=1)\n",
        "sample_std"
      ],
      "metadata": {
        "colab": {
          "base_uri": "https://localhost:8080/"
        },
        "id": "apwNRqC3pFt_",
        "outputId": "4ea5df30-3610-440e-a569-15ecb980e601"
      },
      "execution_count": 6,
      "outputs": [
        {
          "output_type": "execute_result",
          "data": {
            "text/plain": [
              "0.19316412956959936"
            ]
          },
          "metadata": {},
          "execution_count": 6
        }
      ]
    },
    {
      "cell_type": "code",
      "source": [
        "#Sample Size\n",
        "n=len(data)\n",
        "n"
      ],
      "metadata": {
        "colab": {
          "base_uri": "https://localhost:8080/"
        },
        "id": "lQ8fIqOBpibM",
        "outputId": "ce88b30d-3cdd-4a91-a434-360fdbf54554"
      },
      "execution_count": 7,
      "outputs": [
        {
          "output_type": "execute_result",
          "data": {
            "text/plain": [
              "15"
            ]
          },
          "metadata": {},
          "execution_count": 7
        }
      ]
    },
    {
      "cell_type": "code",
      "source": [
        "#Degrees of Freedom\n",
        "df=n-1\n",
        "df"
      ],
      "metadata": {
        "colab": {
          "base_uri": "https://localhost:8080/"
        },
        "id": "BsAG3l_hpoL-",
        "outputId": "bc6b61a1-04bf-4217-e2fa-57a8667a4e44"
      },
      "execution_count": 8,
      "outputs": [
        {
          "output_type": "execute_result",
          "data": {
            "text/plain": [
              "14"
            ]
          },
          "metadata": {},
          "execution_count": 8
        }
      ]
    },
    {
      "cell_type": "code",
      "source": [
        "#Critical t-value for 99% confidence interval\n",
        "t_critical=scipy.stats.t.ppf(1-0.005,df)\n",
        "t_critical"
      ],
      "metadata": {
        "colab": {
          "base_uri": "https://localhost:8080/"
        },
        "id": "It9Y_5R6pvaQ",
        "outputId": "2e66d565-3bb9-4772-867d-249409fdcbb3"
      },
      "execution_count": 10,
      "outputs": [
        {
          "output_type": "execute_result",
          "data": {
            "text/plain": [
              "2.97684273411266"
            ]
          },
          "metadata": {},
          "execution_count": 10
        }
      ]
    },
    {
      "cell_type": "code",
      "source": [
        "#Margin of Error\n",
        "ME= t_critical * (sample_std / numpy.sqrt(n))\n",
        "ME"
      ],
      "metadata": {
        "colab": {
          "base_uri": "https://localhost:8080/"
        },
        "id": "vpTTZJyfqHZt",
        "outputId": "83fd0d61-4f4d-4fd1-f522-bf87c91a25ca"
      },
      "execution_count": 11,
      "outputs": [
        {
          "output_type": "execute_result",
          "data": {
            "text/plain": [
              "0.1484693282152996"
            ]
          },
          "metadata": {},
          "execution_count": 11
        }
      ]
    },
    {
      "cell_type": "code",
      "source": [
        "#Confidence Interval\n",
        "CI=(sample_mean - ME, sample_mean + ME)\n",
        "CI"
      ],
      "metadata": {
        "colab": {
          "base_uri": "https://localhost:8080/"
        },
        "id": "p_No5-mAqYaC",
        "outputId": "e638f6a8-f6ab-4872-fafd-18a244a9403b"
      },
      "execution_count": 12,
      "outputs": [
        {
          "output_type": "execute_result",
          "data": {
            "text/plain": [
              "(1.090197338451367, 1.3871359948819662)"
            ]
          },
          "metadata": {},
          "execution_count": 12
        }
      ]
    }
  ]
}